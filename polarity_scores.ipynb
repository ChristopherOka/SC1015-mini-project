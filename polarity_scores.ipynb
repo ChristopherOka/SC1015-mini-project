{
 "cells": [
  {
   "cell_type": "code",
   "execution_count": 10,
   "metadata": {},
   "outputs": [],
   "source": [
    "from nltk.sentiment import SentimentIntensityAnalyzer\n",
    "import pandas as pd\n",
    "\n",
    "sia = SentimentIntensityAnalyzer()\n",
    "\n",
    "df = pd.read_csv('movies.csv')\n",
    "\n",
    "for index, row in df.iterrows():\n",
    "    title = row['title']\n",
    "    title_sentiment = sia.polarity_scores(title)\n",
    "    df.at[index, 'title_sentiment'] = title_sentiment['compound']\n",
    "\n",
    "df.to_csv('movies_sentiment.csv', index=False)"
   ]
  }
 ],
 "metadata": {
  "kernelspec": {
   "display_name": "Python 3",
   "language": "python",
   "name": "python3"
  },
  "language_info": {
   "codemirror_mode": {
    "name": "ipython",
    "version": 3
   },
   "file_extension": ".py",
   "mimetype": "text/x-python",
   "name": "python",
   "nbconvert_exporter": "python",
   "pygments_lexer": "ipython3",
   "version": "3.11.4"
  }
 },
 "nbformat": 4,
 "nbformat_minor": 2
}
